{
 "cells": [
  {
   "cell_type": "code",
   "execution_count": null,
   "id": "d1c05995",
   "metadata": {},
   "outputs": [],
   "source": [
    "import geopandas as gpd\n",
    "import pickle as pkl\n",
    "import matplotlib.pyplot as plt \n",
    "import os"
   ]
  },
  {
   "cell_type": "code",
   "execution_count": null,
   "id": "25ef8179",
   "metadata": {},
   "outputs": [],
   "source": [
    "data_path = \"results/redist_flip_alg_data_3100_3020_3.pkl\"\n",
    "result_path = \"results/redist_flip_alg_result_3100_3020_3.pkl\""
   ]
  },
  {
   "cell_type": "markdown",
   "id": "14e7a53b",
   "metadata": {},
   "source": [
    "Data is a set of information how the algorithm progressed. It is an array of shape (steps%100, 5) where each row contains:\n",
    "* `accepted_count` - number of accepted changes in the last 100 steps\n",
    "* `rejected_count` - number of rejected changes in the last 100 steps\n",
    "* `pop_max_deriv` - maximum deviation from equal population\n",
    "* `pop_avg_deriv` - average deviation from equal population\n",
    "* `compactness` - current compactness score (max is number_of_districts - higher is better)"
   ]
  },
  {
   "cell_type": "code",
   "execution_count": null,
   "id": "b086456a",
   "metadata": {},
   "outputs": [],
   "source": [
    "data = pkl.load(open(data_path, \"rb\"))\n",
    "# plt.plot(data[:,2]) # max population deviation\n",
    "# plt.plot(data[:,3]) # avg population deviation\n",
    "# plt.plot(data[:,4]) # compactness score"
   ]
  },
  {
   "cell_type": "code",
   "execution_count": null,
   "id": "38888315",
   "metadata": {},
   "outputs": [],
   "source": [
    "districts = pkl.load(open(result_path, \"rb\"))\n",
    "\n",
    "merged_gdf = gpd.read_file(\"shapefiles/wybory2019_voronoi/wybory2019sejm_voronoi.shx\", encoding=\"utf-8\")\n",
    "merged_gdf['teryt'] = merged_gdf['teryt'].astype(str).str.strip()\n",
    "merged_gdf['obwod'] = merged_gdf['obwod'].astype(str).str.strip()\n",
    "mapping = {}\n",
    "for district, nodes in enumerate(districts):\n",
    "    for node in nodes:\n",
    "        for part in node.split(\"+\"):\n",
    "            teryt_code, obwod_id = part.split(\"_\")\n",
    "            mapping[(teryt_code, obwod_id)] = district\n",
    "keys = list(zip(merged_gdf['teryt'], merged_gdf['obwod']))\n",
    "merged_gdf['district'] = [mapping.get(key, -1) for key in keys]\n",
    "merged_gdf['district'] = merged_gdf['district'].astype(str)\n",
    "merged_gdf = merged_gdf.dissolve(by='district', aggfunc='sum')\n",
    "merged_gdf.reset_index(inplace=True)\n",
    "merged_gdf.drop(columns=['teryt', 'obwod'], inplace=True)"
   ]
  },
  {
   "cell_type": "markdown",
   "id": "aeabd145",
   "metadata": {},
   "source": [
    "Plot population bar chart"
   ]
  },
  {
   "cell_type": "code",
   "execution_count": null,
   "id": "90d2cf21",
   "metadata": {},
   "outputs": [],
   "source": [
    "plt.figure(figsize=(8, 6))\n",
    "plt.bar(merged_gdf['district'], merged_gdf['Wyborcy'], color='skyblue')\n",
    "plt.ylabel('Population')\n",
    "plt.title('Population by District')\n",
    "plt.xticks(rotation=90)\n",
    "plt.xlabel('District')\n",
    "plt.grid(axis='y', linestyle='--', alpha=0.7)\n",
    "plt.xticks([])\n",
    "plt.tight_layout()\n",
    "plt.show()"
   ]
  },
  {
   "cell_type": "markdown",
   "id": "8afdc3e8",
   "metadata": {},
   "source": [
    "Average compactness score"
   ]
  },
  {
   "cell_type": "code",
   "execution_count": null,
   "id": "d3dc9350",
   "metadata": {},
   "outputs": [],
   "source": [
    "compactness = data[-1, 4] / len(districts)\n",
    "print(f\"Compactness score: {compactness:.4f}\")"
   ]
  },
  {
   "cell_type": "markdown",
   "id": "520e7b76",
   "metadata": {},
   "source": [
    "Save the resulting districts to a shapefile"
   ]
  },
  {
   "cell_type": "code",
   "execution_count": null,
   "id": "6642049c",
   "metadata": {},
   "outputs": [],
   "source": [
    "if not os.path.exists(\"results/shapefiles\"):\n",
    "    os.makedirs(\"results/shapefiles\")\n",
    "file_name = #fill with your desired filename\n",
    "if not os.path.exists(f\"results/shapefiles/{file_name}\"):\n",
    "    os.makedirs(f\"results/shapefiles/{file_name}\")\n",
    "merged_gdf.to_file(f\"results/shapefiles/{file_name}/{file_name}.shp\", encoding=\"utf-8\")"
   ]
  },
  {
   "cell_type": "code",
   "execution_count": null,
   "id": "2bd512b9",
   "metadata": {},
   "outputs": [],
   "source": [
    "komit_cols = ['KO', 'EMERYCI', 'KONF', 'PSL', 'PRAWICA', 'PIS', 'LIROY', 'SLD', 'BEZPART', 'MN']\n",
    "merged_gdf['winner'] = merged_gdf[komit_cols].idxmax(axis=1)\n",
    "merged_gdf['winner'].value_counts()"
   ]
  },
  {
   "cell_type": "code",
   "execution_count": null,
   "id": "67ee311b",
   "metadata": {},
   "outputs": [],
   "source": [
    "merged_gdf.plot(column='winner', cmap='tab20', legend=True)\n",
    "plt.axis('off')\n",
    "plt.show()"
   ]
  }
 ],
 "metadata": {
  "kernelspec": {
   "display_name": "Python 3",
   "language": "python",
   "name": "python3"
  },
  "language_info": {
   "codemirror_mode": {
    "name": "ipython",
    "version": 3
   },
   "file_extension": ".py",
   "mimetype": "text/x-python",
   "name": "python",
   "nbconvert_exporter": "python",
   "pygments_lexer": "ipython3",
   "version": "3.13.5"
  }
 },
 "nbformat": 4,
 "nbformat_minor": 5
}
